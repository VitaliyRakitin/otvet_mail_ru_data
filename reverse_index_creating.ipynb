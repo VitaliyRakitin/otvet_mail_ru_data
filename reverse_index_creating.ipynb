{
 "cells": [
  {
   "cell_type": "code",
   "execution_count": 1,
   "metadata": {
    "collapsed": true
   },
   "outputs": [],
   "source": [
    "import pandas as pd\n",
    "import sqlite3 as db\n",
    "import json\n",
    "from pymystem3 import Mystem\n",
    "from gensim.models import KeyedVectors as Word2Vec\n",
    "from tqdm import tqdm"
   ]
  },
  {
   "cell_type": "code",
   "execution_count": 2,
   "metadata": {
    "collapsed": true
   },
   "outputs": [],
   "source": [
    "mydb = db.connect(\"db2.sqlite\")\n",
    "mystem = Mystem()"
   ]
  },
  {
   "cell_type": "code",
   "execution_count": null,
   "metadata": {
    "collapsed": true
   },
   "outputs": [],
   "source": [
    "#Занесем наш датасет в БД\n",
    "for df in  pd.read_csv(\"1.csv\",sep = \"\\t\\t\", header=None, skiprows=0, chunksize=100000):\n",
    "    i += 1\n",
    "    print(i)\n",
    "    df.to_sql(\"DATA\", mydb, index=False, flavor=\"sqlite\", if_exists='append')"
   ]
  },
  {
   "cell_type": "code",
   "execution_count": null,
   "metadata": {
    "collapsed": true
   },
   "outputs": [],
   "source": [
    "def tokenize(s):\n",
    "    res = []\n",
    "    for x in mystem.analyze(s):\n",
    "        if ('analysis' in x) and len(x['analysis']) > 0:\n",
    "            txt = x['analysis'][0]['lex']\n",
    "            res.append(txt)\n",
    "    return res"
   ]
  },
  {
   "cell_type": "code",
   "execution_count": null,
   "metadata": {
    "collapsed": true
   },
   "outputs": [],
   "source": [
    "#считаем\n",
    "sql = '''select \"0\", \"1\" from data'''\n",
    "\n",
    "cur = mydb.execute(sql)\n",
    "tst = cur.fetchall()"
   ]
  },
  {
   "cell_type": "code",
   "execution_count": null,
   "metadata": {
    "collapsed": true
   },
   "outputs": [],
   "source": [
    "#построим обратный индекс\n",
    "sql = \"\"\"CREATE TABLE rindex(id int PRIMIRY KEY, word Text)\"\"\"\n",
    "mydb.execute(sql) \n",
    "mydb.commit()\n",
    "\n",
    "sql = lambda a,b:'''INSERT INTO rindex(word, qid) VALUES (\"{0}\", \"{1}\")'''.format(a,b)\n",
    "i = 0\n",
    "for x in tqdm(tst):\n",
    "    if x[1] != None:\n",
    "        for y in tokenize(x[1]):\n",
    "            mydb.execute(sql(y, x[0])) \n",
    "    i += 1\n",
    "    if i%300000 == 0:\n",
    "        mydb.commit()"
   ]
  },
  {
   "cell_type": "code",
   "execution_count": null,
   "metadata": {
    "collapsed": true
   },
   "outputs": [],
   "source": [
    "#сджоиним обратный индекс и датасет чтобы ускорить поиск запросов по вхождению\n",
    "mydb.execute(\"\"\"CREATE TABLE myjoin(id int PRIMIRY KEY, word Text,  q Text, a Text)\"\"\") \n",
    "mydb.execute('''Insert into myjoin select rindex2.id as id, rindex2.word as word, data.\"1\" as q, data.\"2\" as a\n",
    "                  from rindex2 inner join data on rindex2.qid = data.\"0\"''')\n",
    "mydb.execute('''Create index myjoin_idx on myjoin(word, q, a)''')\n",
    "mydb.commit()"
   ]
  }
 ],
 "metadata": {
  "kernelspec": {
   "display_name": "Python 3",
   "language": "python",
   "name": "python3"
  },
  "language_info": {
   "codemirror_mode": {
    "name": "ipython",
    "version": 3
   },
   "file_extension": ".py",
   "mimetype": "text/x-python",
   "name": "python",
   "nbconvert_exporter": "python",
   "pygments_lexer": "ipython3",
   "version": "3.5.3"
  }
 },
 "nbformat": 4,
 "nbformat_minor": 2
}
